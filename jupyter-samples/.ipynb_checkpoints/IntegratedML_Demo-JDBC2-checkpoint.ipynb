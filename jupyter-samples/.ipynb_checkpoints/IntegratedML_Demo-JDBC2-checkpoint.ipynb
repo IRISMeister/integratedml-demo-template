{
 "cells": [
  {
   "cell_type": "code",
   "execution_count": 16,
   "metadata": {},
   "outputs": [
    {
     "name": "stdout",
     "output_type": "stream",
     "text": [
      "C:\\Progra~1\\Java\\jdk1.8.0_241\\jre\\bin\\server\\jvm.dll\n"
     ]
    }
   ],
   "source": [
    "print(jvm_path)"
   ]
  },
  {
   "cell_type": "code",
   "execution_count": 29,
   "metadata": {},
   "outputs": [
    {
     "ename": "java.lang.RuntimeExceptionPyRaisable",
     "evalue": "java.lang.RuntimeException: Class com.intersystems.jdbc.IRISDriver not found",
     "output_type": "error",
     "traceback": [
      "\u001b[1;31m---------------------------------------------------------------------------\u001b[0m",
      "\u001b[1;31mjava.lang.RuntimeExceptionPyRaisable\u001b[0m      Traceback (most recent call last)",
      "\u001b[1;32m<ipython-input-29-4684517783ca>\u001b[0m in \u001b[0;36m<module>\u001b[1;34m\u001b[0m\n\u001b[0;32m     13\u001b[0m \u001b[0mjarfile\u001b[0m \u001b[1;33m=\u001b[0m \u001b[1;34m'C:/InterSystems/IRIS20194/dev/java/lib/JDK18/intersystems-jdbc-3.0.0.jar'\u001b[0m\u001b[1;33m\u001b[0m\u001b[1;33m\u001b[0m\u001b[0m\n\u001b[0;32m     14\u001b[0m \u001b[1;33m\u001b[0m\u001b[0m\n\u001b[1;32m---> 15\u001b[1;33m \u001b[0mconn\u001b[0m \u001b[1;33m=\u001b[0m \u001b[0mjaydebeapi\u001b[0m\u001b[1;33m.\u001b[0m\u001b[0mconnect\u001b[0m\u001b[1;33m(\u001b[0m\u001b[0mdriver\u001b[0m\u001b[1;33m,\u001b[0m \u001b[0murl\u001b[0m\u001b[1;33m,\u001b[0m \u001b[0muser\u001b[0m\u001b[1;33m,\u001b[0m \u001b[0mpassword\u001b[0m\u001b[1;33m,\u001b[0m \u001b[0mjarfile\u001b[0m\u001b[1;33m)\u001b[0m\u001b[1;33m\u001b[0m\u001b[1;33m\u001b[0m\u001b[0m\n\u001b[0m\u001b[0;32m     16\u001b[0m \u001b[1;33m\u001b[0m\u001b[0m\n\u001b[0;32m     17\u001b[0m \u001b[1;33m\u001b[0m\u001b[0m\n",
      "\u001b[1;32m~\\.conda\\envs\\tf-gpu\\lib\\site-packages\\jaydebeapi\\__init__.py\u001b[0m in \u001b[0;36mconnect\u001b[1;34m(jclassname, url, driver_args, jars, libs)\u001b[0m\n\u001b[0;32m    379\u001b[0m     \u001b[1;32melse\u001b[0m\u001b[1;33m:\u001b[0m\u001b[1;33m\u001b[0m\u001b[1;33m\u001b[0m\u001b[0m\n\u001b[0;32m    380\u001b[0m         \u001b[0mlibs\u001b[0m \u001b[1;33m=\u001b[0m \u001b[1;33m[\u001b[0m\u001b[1;33m]\u001b[0m\u001b[1;33m\u001b[0m\u001b[1;33m\u001b[0m\u001b[0m\n\u001b[1;32m--> 381\u001b[1;33m     \u001b[0mjconn\u001b[0m \u001b[1;33m=\u001b[0m \u001b[0m_jdbc_connect\u001b[0m\u001b[1;33m(\u001b[0m\u001b[0mjclassname\u001b[0m\u001b[1;33m,\u001b[0m \u001b[0murl\u001b[0m\u001b[1;33m,\u001b[0m \u001b[0mdriver_args\u001b[0m\u001b[1;33m,\u001b[0m \u001b[0mjars\u001b[0m\u001b[1;33m,\u001b[0m \u001b[0mlibs\u001b[0m\u001b[1;33m)\u001b[0m\u001b[1;33m\u001b[0m\u001b[1;33m\u001b[0m\u001b[0m\n\u001b[0m\u001b[0;32m    382\u001b[0m     \u001b[1;32mreturn\u001b[0m \u001b[0mConnection\u001b[0m\u001b[1;33m(\u001b[0m\u001b[0mjconn\u001b[0m\u001b[1;33m,\u001b[0m \u001b[0m_converters\u001b[0m\u001b[1;33m)\u001b[0m\u001b[1;33m\u001b[0m\u001b[1;33m\u001b[0m\u001b[0m\n\u001b[0;32m    383\u001b[0m \u001b[1;33m\u001b[0m\u001b[0m\n",
      "\u001b[1;32m~\\.conda\\envs\\tf-gpu\\lib\\site-packages\\jaydebeapi\\__init__.py\u001b[0m in \u001b[0;36m_jdbc_connect_jpype\u001b[1;34m(jclassname, url, driver_args, jars, libs)\u001b[0m\n\u001b[0;32m    188\u001b[0m             \u001b[1;32mreturn\u001b[0m \u001b[0mjpype\u001b[0m\u001b[1;33m.\u001b[0m\u001b[0mJArray\u001b[0m\u001b[1;33m(\u001b[0m\u001b[0mjpype\u001b[0m\u001b[1;33m.\u001b[0m\u001b[0mJByte\u001b[0m\u001b[1;33m,\u001b[0m \u001b[1;36m1\u001b[0m\u001b[1;33m)\u001b[0m\u001b[1;33m(\u001b[0m\u001b[0mdata\u001b[0m\u001b[1;33m)\u001b[0m\u001b[1;33m\u001b[0m\u001b[1;33m\u001b[0m\u001b[0m\n\u001b[0;32m    189\u001b[0m     \u001b[1;31m# register driver for DriverManager\u001b[0m\u001b[1;33m\u001b[0m\u001b[1;33m\u001b[0m\u001b[1;33m\u001b[0m\u001b[0m\n\u001b[1;32m--> 190\u001b[1;33m     \u001b[0mjpype\u001b[0m\u001b[1;33m.\u001b[0m\u001b[0mJClass\u001b[0m\u001b[1;33m(\u001b[0m\u001b[0mjclassname\u001b[0m\u001b[1;33m)\u001b[0m\u001b[1;33m\u001b[0m\u001b[1;33m\u001b[0m\u001b[0m\n\u001b[0m\u001b[0;32m    191\u001b[0m     \u001b[1;32mif\u001b[0m \u001b[0misinstance\u001b[0m\u001b[1;33m(\u001b[0m\u001b[0mdriver_args\u001b[0m\u001b[1;33m,\u001b[0m \u001b[0mdict\u001b[0m\u001b[1;33m)\u001b[0m\u001b[1;33m:\u001b[0m\u001b[1;33m\u001b[0m\u001b[1;33m\u001b[0m\u001b[0m\n\u001b[0;32m    192\u001b[0m         \u001b[0mProperties\u001b[0m \u001b[1;33m=\u001b[0m \u001b[0mjpype\u001b[0m\u001b[1;33m.\u001b[0m\u001b[0mjava\u001b[0m\u001b[1;33m.\u001b[0m\u001b[0mutil\u001b[0m\u001b[1;33m.\u001b[0m\u001b[0mProperties\u001b[0m\u001b[1;33m\u001b[0m\u001b[1;33m\u001b[0m\u001b[0m\n",
      "\u001b[1;32m~\\.conda\\envs\\tf-gpu\\lib\\site-packages\\jpype\\_jclass.py\u001b[0m in \u001b[0;36mJClass\u001b[1;34m(name)\u001b[0m\n\u001b[0;32m     71\u001b[0m     \u001b[0m_JP_OBJECT_CLASSES\u001b[0m\u001b[1;33m[\u001b[0m\u001b[0mtype\u001b[0m\u001b[1;33m]\u001b[0m \u001b[1;33m=\u001b[0m \u001b[0m_java_lang_Class\u001b[0m\u001b[1;33m\u001b[0m\u001b[1;33m\u001b[0m\u001b[0m\n\u001b[0;32m     72\u001b[0m     \u001b[0m_JP_OBJECT_CLASSES\u001b[0m\u001b[1;33m[\u001b[0m\u001b[0m_jpype\u001b[0m\u001b[1;33m.\u001b[0m\u001b[0mPyJPClass\u001b[0m\u001b[1;33m]\u001b[0m \u001b[1;33m=\u001b[0m \u001b[0m_java_lang_Class\u001b[0m\u001b[1;33m\u001b[0m\u001b[1;33m\u001b[0m\u001b[0m\n\u001b[1;32m---> 73\u001b[1;33m     \u001b[0m_JP_OBJECT_CLASSES\u001b[0m\u001b[1;33m[\u001b[0m\u001b[0mobject\u001b[0m\u001b[1;33m]\u001b[0m \u001b[1;33m=\u001b[0m \u001b[0m_java_lang_Object\u001b[0m\u001b[1;33m\u001b[0m\u001b[1;33m\u001b[0m\u001b[0m\n\u001b[0m\u001b[0;32m     74\u001b[0m \u001b[1;33m\u001b[0m\u001b[0m\n\u001b[0;32m     75\u001b[0m \u001b[1;33m\u001b[0m\u001b[0m\n",
      "\u001b[1;31mjava.lang.RuntimeExceptionPyRaisable\u001b[0m: java.lang.RuntimeException: Class com.intersystems.jdbc.IRISDriver not found"
     ]
    }
   ],
   "source": [
    "#import os\n",
    "#os.environ['JAVA_HOME']='C:\\Progra~1\\Java\\jdk1.8.0_241'\n",
    "#os.environ['CLASSPATH'] = 'C:\\interSystems\\IRIS20194\\dev\\java\\lib\\JDK18\\intersystems-jdbc-3.0.0.jar'\n",
    "#os.environ['HADOOP_HOME']='C:\\hadoop\\bin'  #winutil binary must be in Hadoop's Home\n",
    "\n",
    "import jaydebeapi\n",
    "\n",
    "url = \"jdbc:IRIS://192.168.99.101:9091/USER\"\n",
    "driver = 'com.intersystems.jdbc.IRISDriver'\n",
    "user = \"SUPERUSER\"\n",
    "password = \"SYS\"\n",
    "libx = 'C:/InterSystems/IRIS20194/dev/java/lib/JDK18'\n",
    "jarfile = './intersystems-jdbc-3.0.0.jar'\n",
    "\n",
    "conn = jaydebeapi.connect(driver, url, user, password, jarfile)\n",
    "\n",
    "\n",
    "curs = conn.cursor()\n",
    "curs.execute(\"select * from DataMining.IrisDataset\")\n",
    "curs.fetchall()\n",
    "\n",
    "curs.close()\n",
    "conn.close()"
   ]
  },
  {
   "cell_type": "markdown",
   "metadata": {},
   "source": [
    "%load_ext sql  # maginc SQL is not working yet "
   ]
  },
  {
   "cell_type": "code",
   "execution_count": 2,
   "metadata": {},
   "outputs": [
    {
     "name": "stdout",
     "output_type": "stream",
     "text": [
      "+---+-----------+----------+-----------+----------+-----------+\n",
      "| ID|PetalLength|PetalWidth|SepalLength|SepalWidth|    Species|\n",
      "+---+-----------+----------+-----------+----------+-----------+\n",
      "|  1|        1.4|       0.2|        5.1|       3.5|Iris-setosa|\n",
      "|  2|        1.4|       0.2|        4.9|       3.0|Iris-setosa|\n",
      "|  3|        1.3|       0.2|        4.7|       3.2|Iris-setosa|\n",
      "|  4|        1.5|       0.2|        4.6|       3.1|Iris-setosa|\n",
      "|  5|        1.4|       0.2|        5.0|       3.6|Iris-setosa|\n",
      "|  6|        1.7|       0.4|        5.4|       3.9|Iris-setosa|\n",
      "|  7|        1.4|       0.3|        4.6|       3.4|Iris-setosa|\n",
      "|  8|        1.5|       0.2|        5.0|       3.4|Iris-setosa|\n",
      "|  9|        1.4|       0.2|        4.4|       2.9|Iris-setosa|\n",
      "| 10|        1.5|       0.1|        4.9|       3.1|Iris-setosa|\n",
      "| 11|        1.5|       0.2|        5.4|       3.7|Iris-setosa|\n",
      "| 12|        1.6|       0.2|        4.8|       3.4|Iris-setosa|\n",
      "| 13|        1.4|       0.1|        4.8|       3.0|Iris-setosa|\n",
      "| 14|        1.1|       0.1|        4.3|       3.0|Iris-setosa|\n",
      "| 15|        1.2|       0.2|        5.8|       4.0|Iris-setosa|\n",
      "| 16|        1.5|       0.4|        5.7|       4.4|Iris-setosa|\n",
      "| 17|        1.3|       0.4|        5.4|       3.9|Iris-setosa|\n",
      "| 18|        1.4|       0.3|        5.1|       3.5|Iris-setosa|\n",
      "| 19|        1.7|       0.3|        5.7|       3.8|Iris-setosa|\n",
      "| 20|        1.5|       0.3|        5.1|       3.8|Iris-setosa|\n",
      "+---+-----------+----------+-----------+----------+-----------+\n",
      "only showing top 20 rows\n",
      "\n"
     ]
    }
   ],
   "source": [
    "import os\n",
    "os.environ['JAVA_HOME']='C:\\Progra~2\\Java\\jre1.8.0_211'\n",
    "os.environ['PYSPARK_SUBMIT_ARGS'] = '--jars file:///C:/InterSystems/IRIS20194/dev/java/lib/JDK18/intersystems-jdbc-3.0.0.jar pyspark-shell'\n",
    "os.environ['HADOOP_HOME']='C:\\Progra~2\\Java\\jre1.8.0_211'  #winutil binary must be in Hadoop's Home\n",
    "\n",
    "url = \"jdbc:IRIS://192.168.99.101:9091/USER\"\n",
    "properties = {\n",
    "    \"driver\": \"com.intersystems.jdbc.IRISDriver\",\n",
    "    \"user\": \"SUPERUSER\",\n",
    "    \"password\": \"SYS\"\n",
    "}\n",
    "\n",
    "from pyspark import SparkContext\n",
    "from pyspark.sql import SQLContext\n",
    "\n",
    "#sc = SparkContext(appName='IRIS')\n",
    "sc = SparkContext.getOrCreate()\n",
    "sqlContext = SQLContext(sc)\n",
    "df = sqlContext.read.jdbc(url=url,\\\n",
    "    table=\"DataMining.IrisDataset\", \\\n",
    "    properties=properties) \n",
    "df.show()\n",
    "#sc.stop()\n"
   ]
  },
  {
   "cell_type": "code",
   "execution_count": null,
   "metadata": {},
   "outputs": [],
   "source": []
  },
  {
   "cell_type": "code",
   "execution_count": 3,
   "metadata": {},
   "outputs": [
    {
     "data": {
      "text/plain": [
       "[Row(ID=1, PetalLength=1.4, PetalWidth=0.2, SepalLength=5.1, SepalWidth=3.5, Species='Iris-setosa'),\n",
       " Row(ID=2, PetalLength=1.4, PetalWidth=0.2, SepalLength=4.9, SepalWidth=3.0, Species='Iris-setosa'),\n",
       " Row(ID=3, PetalLength=1.3, PetalWidth=0.2, SepalLength=4.7, SepalWidth=3.2, Species='Iris-setosa'),\n",
       " Row(ID=4, PetalLength=1.5, PetalWidth=0.2, SepalLength=4.6, SepalWidth=3.1, Species='Iris-setosa'),\n",
       " Row(ID=5, PetalLength=1.4, PetalWidth=0.2, SepalLength=5.0, SepalWidth=3.6, Species='Iris-setosa'),\n",
       " Row(ID=6, PetalLength=1.7, PetalWidth=0.4, SepalLength=5.4, SepalWidth=3.9, Species='Iris-setosa'),\n",
       " Row(ID=7, PetalLength=1.4, PetalWidth=0.3, SepalLength=4.6, SepalWidth=3.4, Species='Iris-setosa'),\n",
       " Row(ID=8, PetalLength=1.5, PetalWidth=0.2, SepalLength=5.0, SepalWidth=3.4, Species='Iris-setosa'),\n",
       " Row(ID=9, PetalLength=1.4, PetalWidth=0.2, SepalLength=4.4, SepalWidth=2.9, Species='Iris-setosa'),\n",
       " Row(ID=10, PetalLength=1.5, PetalWidth=0.1, SepalLength=4.9, SepalWidth=3.1, Species='Iris-setosa')]"
      ]
     },
     "execution_count": 3,
     "metadata": {},
     "output_type": "execute_result"
    }
   ],
   "source": [
    "df.head(10)"
   ]
  },
  {
   "cell_type": "code",
   "execution_count": 4,
   "metadata": {},
   "outputs": [
    {
     "name": "stdout",
     "output_type": "stream",
     "text": [
      "+---+-----------+----------+-----------+----------+--------------+\n",
      "| ID|PetalLength|PetalWidth|SepalLength|SepalWidth|       Species|\n",
      "+---+-----------+----------+-----------+----------+--------------+\n",
      "|106|        6.6|       2.1|        7.6|       3.0|Iris-virginica|\n",
      "|108|        6.3|       1.8|        7.3|       2.9|Iris-virginica|\n",
      "|110|        6.1|       2.5|        7.2|       3.6|Iris-virginica|\n",
      "|118|        6.7|       2.2|        7.7|       3.8|Iris-virginica|\n",
      "|119|        6.9|       2.3|        7.7|       2.6|Iris-virginica|\n",
      "|123|        6.7|       2.0|        7.7|       2.8|Iris-virginica|\n",
      "|131|        6.1|       1.9|        7.4|       2.8|Iris-virginica|\n",
      "|132|        6.4|       2.0|        7.9|       3.8|Iris-virginica|\n",
      "|136|        6.1|       2.3|        7.7|       3.0|Iris-virginica|\n",
      "+---+-----------+----------+-----------+----------+--------------+\n",
      "\n",
      "+---------------+-----+\n",
      "|        Species|count|\n",
      "+---------------+-----+\n",
      "| Iris-virginica|   50|\n",
      "|    Iris-setosa|   50|\n",
      "|Iris-versicolor|   50|\n",
      "+---------------+-----+\n",
      "\n"
     ]
    }
   ],
   "source": [
    "df.filter(df[\"PetalLength\"]>6.0).show()\n",
    "df.groupBy(\"Species\").count().show()"
   ]
  },
  {
   "cell_type": "code",
   "execution_count": null,
   "metadata": {},
   "outputs": [],
   "source": []
  },
  {
   "cell_type": "code",
   "execution_count": null,
   "metadata": {},
   "outputs": [],
   "source": []
  },
  {
   "cell_type": "code",
   "execution_count": 5,
   "metadata": {},
   "outputs": [],
   "source": [
    "sc.stop()"
   ]
  },
  {
   "cell_type": "code",
   "execution_count": 6,
   "metadata": {},
   "outputs": [],
   "source": [
    "from pyspark import SparkContext\n",
    "from pyspark import SparkConf\n",
    "from random import random\n",
    "\n",
    "#spark conf\n",
    "conf = SparkConf()\n",
    "conf.setMaster(\"local[*]\")\n",
    "conf.setAppName('pyspark')\n",
    "\n",
    "sc = SparkContext(conf=conf)\n",
    "\n",
    "from pyspark.sql import SQLContext\n",
    "sqlContext = SQLContext(sc)\n",
    "url = \"jdbc:IRIS://192.168.99.101:9091/USER\"\n",
    "properties = {\n",
    "    \"driver\": \"com.intersystems.jdbc.IRISDriver\",\n",
    "    \"user\": \"SUPERUSER\",\n",
    "    \"password\": \"SYS\"\n",
    "}\n",
    "df = sqlContext.read.jdbc(url=url, table='DataMining.IrisDataset', properties=properties)"
   ]
  },
  {
   "cell_type": "code",
   "execution_count": 7,
   "metadata": {},
   "outputs": [
    {
     "name": "stdout",
     "output_type": "stream",
     "text": [
      "+---+-----------+----------+-----------+----------+-----------+\n",
      "| ID|PetalLength|PetalWidth|SepalLength|SepalWidth|    Species|\n",
      "+---+-----------+----------+-----------+----------+-----------+\n",
      "|  1|        1.4|       0.2|        5.1|       3.5|Iris-setosa|\n",
      "|  2|        1.4|       0.2|        4.9|       3.0|Iris-setosa|\n",
      "|  3|        1.3|       0.2|        4.7|       3.2|Iris-setosa|\n",
      "|  4|        1.5|       0.2|        4.6|       3.1|Iris-setosa|\n",
      "|  5|        1.4|       0.2|        5.0|       3.6|Iris-setosa|\n",
      "|  6|        1.7|       0.4|        5.4|       3.9|Iris-setosa|\n",
      "|  7|        1.4|       0.3|        4.6|       3.4|Iris-setosa|\n",
      "|  8|        1.5|       0.2|        5.0|       3.4|Iris-setosa|\n",
      "|  9|        1.4|       0.2|        4.4|       2.9|Iris-setosa|\n",
      "| 10|        1.5|       0.1|        4.9|       3.1|Iris-setosa|\n",
      "| 11|        1.5|       0.2|        5.4|       3.7|Iris-setosa|\n",
      "| 12|        1.6|       0.2|        4.8|       3.4|Iris-setosa|\n",
      "| 13|        1.4|       0.1|        4.8|       3.0|Iris-setosa|\n",
      "| 14|        1.1|       0.1|        4.3|       3.0|Iris-setosa|\n",
      "| 15|        1.2|       0.2|        5.8|       4.0|Iris-setosa|\n",
      "| 16|        1.5|       0.4|        5.7|       4.4|Iris-setosa|\n",
      "| 17|        1.3|       0.4|        5.4|       3.9|Iris-setosa|\n",
      "| 18|        1.4|       0.3|        5.1|       3.5|Iris-setosa|\n",
      "| 19|        1.7|       0.3|        5.7|       3.8|Iris-setosa|\n",
      "| 20|        1.5|       0.3|        5.1|       3.8|Iris-setosa|\n",
      "+---+-----------+----------+-----------+----------+-----------+\n",
      "only showing top 20 rows\n",
      "\n",
      "+---+-----------+----------+-----------+----------+--------------+\n",
      "| ID|PetalLength|PetalWidth|SepalLength|SepalWidth|       Species|\n",
      "+---+-----------+----------+-----------+----------+--------------+\n",
      "|106|        6.6|       2.1|        7.6|       3.0|Iris-virginica|\n",
      "|108|        6.3|       1.8|        7.3|       2.9|Iris-virginica|\n",
      "|110|        6.1|       2.5|        7.2|       3.6|Iris-virginica|\n",
      "|118|        6.7|       2.2|        7.7|       3.8|Iris-virginica|\n",
      "|119|        6.9|       2.3|        7.7|       2.6|Iris-virginica|\n",
      "|123|        6.7|       2.0|        7.7|       2.8|Iris-virginica|\n",
      "|131|        6.1|       1.9|        7.4|       2.8|Iris-virginica|\n",
      "|132|        6.4|       2.0|        7.9|       3.8|Iris-virginica|\n",
      "|136|        6.1|       2.3|        7.7|       3.0|Iris-virginica|\n",
      "+---+-----------+----------+-----------+----------+--------------+\n",
      "\n",
      "+---------------+-----+\n",
      "|        Species|count|\n",
      "+---------------+-----+\n",
      "| Iris-virginica|   50|\n",
      "|    Iris-setosa|   50|\n",
      "|Iris-versicolor|   50|\n",
      "+---------------+-----+\n",
      "\n"
     ]
    }
   ],
   "source": [
    "df.show()\n",
    "df.head(20)\n",
    "df.filter(df[\"PetalLength\"]>6.0).show()\n",
    "df.groupBy(\"Species\").count().show()"
   ]
  },
  {
   "cell_type": "code",
   "execution_count": null,
   "metadata": {},
   "outputs": [],
   "source": []
  },
  {
   "cell_type": "code",
   "execution_count": null,
   "metadata": {},
   "outputs": [],
   "source": []
  },
  {
   "cell_type": "code",
   "execution_count": null,
   "metadata": {},
   "outputs": [],
   "source": []
  },
  {
   "cell_type": "code",
   "execution_count": null,
   "metadata": {},
   "outputs": [],
   "source": [
    "# Try Achiemy \n",
    "import pandas as pd\n",
    "from sqlalchemy.engine import create_engine\n",
    "\n",
    "# Presto\n",
    "engine = create_engine('presto://192.168.99.101:9091/system/runtime') \n",
    "\n",
    "#Read Presto Data query into a DataFrame\n",
    "df = pd.read_sql('select * from queries limit 1', engine)\n",
    "df.head()"
   ]
  },
  {
   "cell_type": "code",
   "execution_count": null,
   "metadata": {},
   "outputs": [],
   "source": []
  },
  {
   "cell_type": "code",
   "execution_count": null,
   "metadata": {},
   "outputs": [],
   "source": []
  },
  {
   "cell_type": "code",
   "execution_count": null,
   "metadata": {},
   "outputs": [],
   "source": []
  },
  {
   "cell_type": "code",
   "execution_count": null,
   "metadata": {},
   "outputs": [],
   "source": [
    "# https://medium.com/@thucnc/pyspark-in-jupyter-notebook-working-with-dataframe-jdbc-data-sources-6f3d39300bf6"
   ]
  },
  {
   "cell_type": "code",
   "execution_count": null,
   "metadata": {},
   "outputs": [],
   "source": [
    "import os\n",
    "os.environ['PYSPARK_SUBMIT_ARGS'] = '--jars file:///C:/InterSystems/IRIS20194/dev/java/lib/JDK18 pyspark-shell'"
   ]
  },
  {
   "cell_type": "code",
   "execution_count": null,
   "metadata": {},
   "outputs": [],
   "source": [
    "url = \"jdbc:IRIS://192.168.99.101:9091/USER\"\n",
    "properties = {\n",
    "    \"driver\": \"com.intersystems.jdbc.IRISDriver\",\n",
    "    \"user\": \"SUPERUSER\",\n",
    "    \"password\": \"SYS\"\n",
    "}"
   ]
  },
  {
   "cell_type": "code",
   "execution_count": null,
   "metadata": {},
   "outputs": [],
   "source": [
    "os.environ['JAVA_HOME']='C:\\Progra~2\\Java\\jre1.8.0_211'\n",
    "os.environ['CLASSPATH']='C:\\InterSystems\\IRIS20194\\dev\\java\\lib\\JDK18'\n",
    "os.environ['HADOOP_HOME']='C:\\Progra~2\\Java\\jre1.8.0_211'\n",
    "\n",
    "\n",
    "print(os.environ['JAVA_HOME'])\n",
    "print(os.environ['CLASSPATH'])\n",
    "print(os.environ['HADOOP_HOME'])\n"
   ]
  },
  {
   "cell_type": "code",
   "execution_count": null,
   "metadata": {},
   "outputs": [],
   "source": [
    "from pyspark.sql import Row\n",
    "a = Row(name = 'Vinay' , age=22 , height=165)\n",
    "print(\"a: \",a)"
   ]
  },
  {
   "cell_type": "code",
   "execution_count": null,
   "metadata": {},
   "outputs": [],
   "source": [
    "!java -version -help"
   ]
  },
  {
   "cell_type": "code",
   "execution_count": null,
   "metadata": {},
   "outputs": [],
   "source": [
    "### Connect into Iris by JDBC"
   ]
  },
  {
   "cell_type": "code",
   "execution_count": null,
   "metadata": {},
   "outputs": [],
   "source": [
    "df.show()"
   ]
  },
  {
   "cell_type": "code",
   "execution_count": null,
   "metadata": {},
   "outputs": [],
   "source": [
    "!conda install --yes -c conda-forge pyspark"
   ]
  },
  {
   "cell_type": "code",
   "execution_count": null,
   "metadata": {},
   "outputs": [],
   "source": []
  },
  {
   "cell_type": "code",
   "execution_count": null,
   "metadata": {},
   "outputs": [],
   "source": []
  },
  {
   "cell_type": "code",
   "execution_count": null,
   "metadata": {},
   "outputs": [],
   "source": []
  },
  {
   "cell_type": "code",
   "execution_count": null,
   "metadata": {},
   "outputs": [],
   "source": []
  },
  {
   "cell_type": "code",
   "execution_count": null,
   "metadata": {},
   "outputs": [],
   "source": []
  },
  {
   "cell_type": "code",
   "execution_count": 8,
   "metadata": {},
   "outputs": [],
   "source": [
    "sc.stop()"
   ]
  },
  {
   "cell_type": "code",
   "execution_count": 9,
   "metadata": {},
   "outputs": [
    {
     "name": "stdout",
     "output_type": "stream",
     "text": [
      "+---+-----------+----------+-----------+----------+-----------+\n",
      "| ID|PetalLength|PetalWidth|SepalLength|SepalWidth|    Species|\n",
      "+---+-----------+----------+-----------+----------+-----------+\n",
      "|  1|        1.4|       0.2|        5.1|       3.5|Iris-setosa|\n",
      "|  2|        1.4|       0.2|        4.9|       3.0|Iris-setosa|\n",
      "|  3|        1.3|       0.2|        4.7|       3.2|Iris-setosa|\n",
      "|  4|        1.5|       0.2|        4.6|       3.1|Iris-setosa|\n",
      "|  5|        1.4|       0.2|        5.0|       3.6|Iris-setosa|\n",
      "|  6|        1.7|       0.4|        5.4|       3.9|Iris-setosa|\n",
      "|  7|        1.4|       0.3|        4.6|       3.4|Iris-setosa|\n",
      "|  8|        1.5|       0.2|        5.0|       3.4|Iris-setosa|\n",
      "|  9|        1.4|       0.2|        4.4|       2.9|Iris-setosa|\n",
      "| 10|        1.5|       0.1|        4.9|       3.1|Iris-setosa|\n",
      "| 11|        1.5|       0.2|        5.4|       3.7|Iris-setosa|\n",
      "| 12|        1.6|       0.2|        4.8|       3.4|Iris-setosa|\n",
      "| 13|        1.4|       0.1|        4.8|       3.0|Iris-setosa|\n",
      "| 14|        1.1|       0.1|        4.3|       3.0|Iris-setosa|\n",
      "| 15|        1.2|       0.2|        5.8|       4.0|Iris-setosa|\n",
      "| 16|        1.5|       0.4|        5.7|       4.4|Iris-setosa|\n",
      "| 17|        1.3|       0.4|        5.4|       3.9|Iris-setosa|\n",
      "| 18|        1.4|       0.3|        5.1|       3.5|Iris-setosa|\n",
      "| 19|        1.7|       0.3|        5.7|       3.8|Iris-setosa|\n",
      "| 20|        1.5|       0.3|        5.1|       3.8|Iris-setosa|\n",
      "+---+-----------+----------+-----------+----------+-----------+\n",
      "only showing top 20 rows\n",
      "\n"
     ]
    }
   ],
   "source": [
    "import os\n",
    "os.environ['JAVA_HOME']='C:\\Progra~2\\Java\\jre1.8.0_211'\n",
    "os.environ['PYSPARK_SUBMIT_ARGS'] = '--jars file:///C:/InterSystems/IRIS20194/dev/java/lib/JDK18/intersystems-jdbc-3.0.0.jar pyspark-shell'\n",
    "os.environ['HADOOP_HOME']='C:\\Progra~2\\Java\\jre1.8.0_211'  #winutil binary must be in Hadoop's Home\n",
    "\n",
    "\n",
    "from pyspark.sql import SparkSession\n",
    "spark = SparkSession.builder \\\n",
    "    .master(\"local[*]\") \\\n",
    "    .appName(\"IRIS JDBC QuickML Demo2\") \\\n",
    "    .config(\"spark.sql.shuffle.partitions\", \"4\") \\\n",
    "    .getOrCreate()\n",
    "driver = \"com.intersystems.jdbc.IRISDriver\"\n",
    "#path = \"data/flight-data/jdbc/my-sqlite.db\"\n",
    "#url = \"jdbc:sqlite:\" + path\n",
    "url = \"jdbc:IRIS://192.168.99.101:9091/USER\"\n",
    "tablename = \"DataMining.IrisDataset\"\n",
    "properties = {\n",
    "    \"driver\": \"com.intersystems.jdbc.IRISDriver\",\n",
    "    \"user\": \"SUPERUSER\",\n",
    "    \"password\": \"SYS\"\n",
    "}\n",
    "dbDataFrame = spark.read.format(\"jdbc\")\\\n",
    "            .option(\"url\", url)\\\n",
    "            .option(\"dbtable\", tablename)\\\n",
    "            .option(\"driver\", driver)\\\n",
    "            .option(\"user\", \"SUPERUSER\")\\\n",
    "            .option(\"password\", \"SYS\")\\\n",
    "            .load()\n",
    "dbDataFrame.show()\n"
   ]
  },
  {
   "cell_type": "code",
   "execution_count": 10,
   "metadata": {},
   "outputs": [
    {
     "name": "stdout",
     "output_type": "stream",
     "text": [
      "root\n",
      " |-- ID: long (nullable = true)\n",
      " |-- PetalLength: double (nullable = true)\n",
      " |-- PetalWidth: double (nullable = true)\n",
      " |-- SepalLength: double (nullable = true)\n",
      " |-- SepalWidth: double (nullable = true)\n",
      " |-- Species: string (nullable = true)\n",
      "\n"
     ]
    }
   ],
   "source": [
    "dbDataFrame.printSchema()"
   ]
  },
  {
   "cell_type": "code",
   "execution_count": 11,
   "metadata": {},
   "outputs": [
    {
     "name": "stdout",
     "output_type": "stream",
     "text": [
      "+---+-----------+----------+-----------+----------+-----------+\n",
      "| ID|PetalLength|PetalWidth|SepalLength|SepalWidth|    Species|\n",
      "+---+-----------+----------+-----------+----------+-----------+\n",
      "|  1|        1.4|       0.2|        5.1|       3.5|Iris-setosa|\n",
      "|  2|        1.4|       0.2|        4.9|       3.0|Iris-setosa|\n",
      "|  3|        1.3|       0.2|        4.7|       3.2|Iris-setosa|\n",
      "|  4|        1.5|       0.2|        4.6|       3.1|Iris-setosa|\n",
      "|  5|        1.4|       0.2|        5.0|       3.6|Iris-setosa|\n",
      "|  6|        1.7|       0.4|        5.4|       3.9|Iris-setosa|\n",
      "|  7|        1.4|       0.3|        4.6|       3.4|Iris-setosa|\n",
      "|  8|        1.5|       0.2|        5.0|       3.4|Iris-setosa|\n",
      "|  9|        1.4|       0.2|        4.4|       2.9|Iris-setosa|\n",
      "| 10|        1.5|       0.1|        4.9|       3.1|Iris-setosa|\n",
      "| 11|        1.5|       0.2|        5.4|       3.7|Iris-setosa|\n",
      "| 12|        1.6|       0.2|        4.8|       3.4|Iris-setosa|\n",
      "| 13|        1.4|       0.1|        4.8|       3.0|Iris-setosa|\n",
      "| 14|        1.1|       0.1|        4.3|       3.0|Iris-setosa|\n",
      "| 15|        1.2|       0.2|        5.8|       4.0|Iris-setosa|\n",
      "| 16|        1.5|       0.4|        5.7|       4.4|Iris-setosa|\n",
      "| 17|        1.3|       0.4|        5.4|       3.9|Iris-setosa|\n",
      "| 18|        1.4|       0.3|        5.1|       3.5|Iris-setosa|\n",
      "| 19|        1.7|       0.3|        5.7|       3.8|Iris-setosa|\n",
      "| 20|        1.5|       0.3|        5.1|       3.8|Iris-setosa|\n",
      "+---+-----------+----------+-----------+----------+-----------+\n",
      "only showing top 20 rows\n",
      "\n"
     ]
    }
   ],
   "source": [
    "dbDataFrame.createOrReplaceTempView(\"QuickML001\")\n",
    "\n",
    "sqlDF = spark.sql(\"SELECT * FROM QuickML001\")\n",
    "sqlDF.show()"
   ]
  },
  {
   "cell_type": "code",
   "execution_count": 12,
   "metadata": {},
   "outputs": [
    {
     "name": "stdout",
     "output_type": "stream",
     "text": [
      "+---+-----------+----------+-----------+----------+-----------+\n",
      "| ID|PetalLength|PetalWidth|SepalLength|SepalWidth|    Species|\n",
      "+---+-----------+----------+-----------+----------+-----------+\n",
      "|  1|        1.4|       0.2|        5.1|       3.5|Iris-setosa|\n",
      "|  2|        1.4|       0.2|        4.9|       3.0|Iris-setosa|\n",
      "|  3|        1.3|       0.2|        4.7|       3.2|Iris-setosa|\n",
      "|  4|        1.5|       0.2|        4.6|       3.1|Iris-setosa|\n",
      "|  5|        1.4|       0.2|        5.0|       3.6|Iris-setosa|\n",
      "|  6|        1.7|       0.4|        5.4|       3.9|Iris-setosa|\n",
      "|  7|        1.4|       0.3|        4.6|       3.4|Iris-setosa|\n",
      "|  8|        1.5|       0.2|        5.0|       3.4|Iris-setosa|\n",
      "|  9|        1.4|       0.2|        4.4|       2.9|Iris-setosa|\n",
      "| 10|        1.5|       0.1|        4.9|       3.1|Iris-setosa|\n",
      "| 11|        1.5|       0.2|        5.4|       3.7|Iris-setosa|\n",
      "| 12|        1.6|       0.2|        4.8|       3.4|Iris-setosa|\n",
      "| 13|        1.4|       0.1|        4.8|       3.0|Iris-setosa|\n",
      "| 14|        1.1|       0.1|        4.3|       3.0|Iris-setosa|\n",
      "| 15|        1.2|       0.2|        5.8|       4.0|Iris-setosa|\n",
      "| 16|        1.5|       0.4|        5.7|       4.4|Iris-setosa|\n",
      "| 17|        1.3|       0.4|        5.4|       3.9|Iris-setosa|\n",
      "| 18|        1.4|       0.3|        5.1|       3.5|Iris-setosa|\n",
      "| 19|        1.7|       0.3|        5.7|       3.8|Iris-setosa|\n",
      "| 20|        1.5|       0.3|        5.1|       3.8|Iris-setosa|\n",
      "+---+-----------+----------+-----------+----------+-----------+\n",
      "only showing top 20 rows\n",
      "\n"
     ]
    }
   ],
   "source": [
    "dataTablePredict = 'QuickML001'\n",
    "sqlDF = spark.sql(\"SELECT * from %s\" % dataTablePredict)\n",
    "sqlDF.show()"
   ]
  },
  {
   "cell_type": "code",
   "execution_count": 13,
   "metadata": {},
   "outputs": [
    {
     "ename": "ParseException",
     "evalue": "\"\\nno viable alternative at input 'CREATE MODEL'(line 1, pos 7)\\n\\n== SQL ==\\nCREATE MODEL Flowers0010 PREDICTING (Species) FROM DataMining.IrisDataset\\n-------^^^\\n\"",
     "output_type": "error",
     "traceback": [
      "\u001b[1;31m---------------------------------------------------------------------------\u001b[0m",
      "\u001b[1;31mPy4JJavaError\u001b[0m                             Traceback (most recent call last)",
      "\u001b[1;32m~\\.conda\\envs\\tf-gpu\\lib\\site-packages\\pyspark\\sql\\utils.py\u001b[0m in \u001b[0;36mdeco\u001b[1;34m(*a, **kw)\u001b[0m\n\u001b[0;32m     62\u001b[0m         \u001b[1;32mtry\u001b[0m\u001b[1;33m:\u001b[0m\u001b[1;33m\u001b[0m\u001b[1;33m\u001b[0m\u001b[0m\n\u001b[1;32m---> 63\u001b[1;33m             \u001b[1;32mreturn\u001b[0m \u001b[0mf\u001b[0m\u001b[1;33m(\u001b[0m\u001b[1;33m*\u001b[0m\u001b[0ma\u001b[0m\u001b[1;33m,\u001b[0m \u001b[1;33m**\u001b[0m\u001b[0mkw\u001b[0m\u001b[1;33m)\u001b[0m\u001b[1;33m\u001b[0m\u001b[1;33m\u001b[0m\u001b[0m\n\u001b[0m\u001b[0;32m     64\u001b[0m         \u001b[1;32mexcept\u001b[0m \u001b[0mpy4j\u001b[0m\u001b[1;33m.\u001b[0m\u001b[0mprotocol\u001b[0m\u001b[1;33m.\u001b[0m\u001b[0mPy4JJavaError\u001b[0m \u001b[1;32mas\u001b[0m \u001b[0me\u001b[0m\u001b[1;33m:\u001b[0m\u001b[1;33m\u001b[0m\u001b[1;33m\u001b[0m\u001b[0m\n",
      "\u001b[1;32m~\\.conda\\envs\\tf-gpu\\lib\\site-packages\\py4j\\protocol.py\u001b[0m in \u001b[0;36mget_return_value\u001b[1;34m(answer, gateway_client, target_id, name)\u001b[0m\n\u001b[0;32m    327\u001b[0m                     \u001b[1;34m\"An error occurred while calling {0}{1}{2}.\\n\"\u001b[0m\u001b[1;33m.\u001b[0m\u001b[1;33m\u001b[0m\u001b[1;33m\u001b[0m\u001b[0m\n\u001b[1;32m--> 328\u001b[1;33m                     format(target_id, \".\", name), value)\n\u001b[0m\u001b[0;32m    329\u001b[0m             \u001b[1;32melse\u001b[0m\u001b[1;33m:\u001b[0m\u001b[1;33m\u001b[0m\u001b[1;33m\u001b[0m\u001b[0m\n",
      "\u001b[1;31mPy4JJavaError\u001b[0m: An error occurred while calling o113.sql.\n: org.apache.spark.sql.catalyst.parser.ParseException: \nno viable alternative at input 'CREATE MODEL'(line 1, pos 7)\n\n== SQL ==\nCREATE MODEL Flowers0010 PREDICTING (Species) FROM DataMining.IrisDataset\n-------^^^\n\r\n\tat org.apache.spark.sql.catalyst.parser.ParseException.withCommand(ParseDriver.scala:241)\r\n\tat org.apache.spark.sql.catalyst.parser.AbstractSqlParser.parse(ParseDriver.scala:117)\r\n\tat org.apache.spark.sql.execution.SparkSqlParser.parse(SparkSqlParser.scala:48)\r\n\tat org.apache.spark.sql.catalyst.parser.AbstractSqlParser.parsePlan(ParseDriver.scala:69)\r\n\tat org.apache.spark.sql.SparkSession.sql(SparkSession.scala:642)\r\n\tat sun.reflect.NativeMethodAccessorImpl.invoke0(Native Method)\r\n\tat sun.reflect.NativeMethodAccessorImpl.invoke(Unknown Source)\r\n\tat sun.reflect.DelegatingMethodAccessorImpl.invoke(Unknown Source)\r\n\tat java.lang.reflect.Method.invoke(Unknown Source)\r\n\tat py4j.reflection.MethodInvoker.invoke(MethodInvoker.java:244)\r\n\tat py4j.reflection.ReflectionEngine.invoke(ReflectionEngine.java:357)\r\n\tat py4j.Gateway.invoke(Gateway.java:282)\r\n\tat py4j.commands.AbstractCommand.invokeMethod(AbstractCommand.java:132)\r\n\tat py4j.commands.CallCommand.execute(CallCommand.java:79)\r\n\tat py4j.GatewayConnection.run(GatewayConnection.java:238)\r\n\tat java.lang.Thread.run(Unknown Source)\r\n",
      "\nDuring handling of the above exception, another exception occurred:\n",
      "\u001b[1;31mParseException\u001b[0m                            Traceback (most recent call last)",
      "\u001b[1;32m<ipython-input-13-7db438ef1e01>\u001b[0m in \u001b[0;36m<module>\u001b[1;34m\u001b[0m\n\u001b[1;32m----> 1\u001b[1;33m \u001b[0mspark\u001b[0m\u001b[1;33m.\u001b[0m\u001b[0msql\u001b[0m\u001b[1;33m(\u001b[0m\u001b[1;34m\"CREATE MODEL Flowers0010 PREDICTING (Species) FROM DataMining.IrisDataset\"\u001b[0m\u001b[1;33m)\u001b[0m\u001b[1;33m\u001b[0m\u001b[1;33m\u001b[0m\u001b[0m\n\u001b[0m",
      "\u001b[1;32m~\\.conda\\envs\\tf-gpu\\lib\\site-packages\\pyspark\\sql\\session.py\u001b[0m in \u001b[0;36msql\u001b[1;34m(self, sqlQuery)\u001b[0m\n\u001b[0;32m    765\u001b[0m         \u001b[1;33m[\u001b[0m\u001b[0mRow\u001b[0m\u001b[1;33m(\u001b[0m\u001b[0mf1\u001b[0m\u001b[1;33m=\u001b[0m\u001b[1;36m1\u001b[0m\u001b[1;33m,\u001b[0m \u001b[0mf2\u001b[0m\u001b[1;33m=\u001b[0m\u001b[1;34mu'row1'\u001b[0m\u001b[1;33m)\u001b[0m\u001b[1;33m,\u001b[0m \u001b[0mRow\u001b[0m\u001b[1;33m(\u001b[0m\u001b[0mf1\u001b[0m\u001b[1;33m=\u001b[0m\u001b[1;36m2\u001b[0m\u001b[1;33m,\u001b[0m \u001b[0mf2\u001b[0m\u001b[1;33m=\u001b[0m\u001b[1;34mu'row2'\u001b[0m\u001b[1;33m)\u001b[0m\u001b[1;33m,\u001b[0m \u001b[0mRow\u001b[0m\u001b[1;33m(\u001b[0m\u001b[0mf1\u001b[0m\u001b[1;33m=\u001b[0m\u001b[1;36m3\u001b[0m\u001b[1;33m,\u001b[0m \u001b[0mf2\u001b[0m\u001b[1;33m=\u001b[0m\u001b[1;34mu'row3'\u001b[0m\u001b[1;33m)\u001b[0m\u001b[1;33m]\u001b[0m\u001b[1;33m\u001b[0m\u001b[1;33m\u001b[0m\u001b[0m\n\u001b[0;32m    766\u001b[0m         \"\"\"\n\u001b[1;32m--> 767\u001b[1;33m         \u001b[1;32mreturn\u001b[0m \u001b[0mDataFrame\u001b[0m\u001b[1;33m(\u001b[0m\u001b[0mself\u001b[0m\u001b[1;33m.\u001b[0m\u001b[0m_jsparkSession\u001b[0m\u001b[1;33m.\u001b[0m\u001b[0msql\u001b[0m\u001b[1;33m(\u001b[0m\u001b[0msqlQuery\u001b[0m\u001b[1;33m)\u001b[0m\u001b[1;33m,\u001b[0m \u001b[0mself\u001b[0m\u001b[1;33m.\u001b[0m\u001b[0m_wrapped\u001b[0m\u001b[1;33m)\u001b[0m\u001b[1;33m\u001b[0m\u001b[1;33m\u001b[0m\u001b[0m\n\u001b[0m\u001b[0;32m    768\u001b[0m \u001b[1;33m\u001b[0m\u001b[0m\n\u001b[0;32m    769\u001b[0m     \u001b[1;33m@\u001b[0m\u001b[0msince\u001b[0m\u001b[1;33m(\u001b[0m\u001b[1;36m2.0\u001b[0m\u001b[1;33m)\u001b[0m\u001b[1;33m\u001b[0m\u001b[1;33m\u001b[0m\u001b[0m\n",
      "\u001b[1;32m~\\.conda\\envs\\tf-gpu\\lib\\site-packages\\py4j\\java_gateway.py\u001b[0m in \u001b[0;36m__call__\u001b[1;34m(self, *args)\u001b[0m\n\u001b[0;32m   1255\u001b[0m         \u001b[0manswer\u001b[0m \u001b[1;33m=\u001b[0m \u001b[0mself\u001b[0m\u001b[1;33m.\u001b[0m\u001b[0mgateway_client\u001b[0m\u001b[1;33m.\u001b[0m\u001b[0msend_command\u001b[0m\u001b[1;33m(\u001b[0m\u001b[0mcommand\u001b[0m\u001b[1;33m)\u001b[0m\u001b[1;33m\u001b[0m\u001b[1;33m\u001b[0m\u001b[0m\n\u001b[0;32m   1256\u001b[0m         return_value = get_return_value(\n\u001b[1;32m-> 1257\u001b[1;33m             answer, self.gateway_client, self.target_id, self.name)\n\u001b[0m\u001b[0;32m   1258\u001b[0m \u001b[1;33m\u001b[0m\u001b[0m\n\u001b[0;32m   1259\u001b[0m         \u001b[1;32mfor\u001b[0m \u001b[0mtemp_arg\u001b[0m \u001b[1;32min\u001b[0m \u001b[0mtemp_args\u001b[0m\u001b[1;33m:\u001b[0m\u001b[1;33m\u001b[0m\u001b[1;33m\u001b[0m\u001b[0m\n",
      "\u001b[1;32m~\\.conda\\envs\\tf-gpu\\lib\\site-packages\\pyspark\\sql\\utils.py\u001b[0m in \u001b[0;36mdeco\u001b[1;34m(*a, **kw)\u001b[0m\n\u001b[0;32m     71\u001b[0m                 \u001b[1;32mraise\u001b[0m \u001b[0mAnalysisException\u001b[0m\u001b[1;33m(\u001b[0m\u001b[0ms\u001b[0m\u001b[1;33m.\u001b[0m\u001b[0msplit\u001b[0m\u001b[1;33m(\u001b[0m\u001b[1;34m': '\u001b[0m\u001b[1;33m,\u001b[0m \u001b[1;36m1\u001b[0m\u001b[1;33m)\u001b[0m\u001b[1;33m[\u001b[0m\u001b[1;36m1\u001b[0m\u001b[1;33m]\u001b[0m\u001b[1;33m,\u001b[0m \u001b[0mstackTrace\u001b[0m\u001b[1;33m)\u001b[0m\u001b[1;33m\u001b[0m\u001b[1;33m\u001b[0m\u001b[0m\n\u001b[0;32m     72\u001b[0m             \u001b[1;32mif\u001b[0m \u001b[0ms\u001b[0m\u001b[1;33m.\u001b[0m\u001b[0mstartswith\u001b[0m\u001b[1;33m(\u001b[0m\u001b[1;34m'org.apache.spark.sql.catalyst.parser.ParseException: '\u001b[0m\u001b[1;33m)\u001b[0m\u001b[1;33m:\u001b[0m\u001b[1;33m\u001b[0m\u001b[1;33m\u001b[0m\u001b[0m\n\u001b[1;32m---> 73\u001b[1;33m                 \u001b[1;32mraise\u001b[0m \u001b[0mParseException\u001b[0m\u001b[1;33m(\u001b[0m\u001b[0ms\u001b[0m\u001b[1;33m.\u001b[0m\u001b[0msplit\u001b[0m\u001b[1;33m(\u001b[0m\u001b[1;34m': '\u001b[0m\u001b[1;33m,\u001b[0m \u001b[1;36m1\u001b[0m\u001b[1;33m)\u001b[0m\u001b[1;33m[\u001b[0m\u001b[1;36m1\u001b[0m\u001b[1;33m]\u001b[0m\u001b[1;33m,\u001b[0m \u001b[0mstackTrace\u001b[0m\u001b[1;33m)\u001b[0m\u001b[1;33m\u001b[0m\u001b[1;33m\u001b[0m\u001b[0m\n\u001b[0m\u001b[0;32m     74\u001b[0m             \u001b[1;32mif\u001b[0m \u001b[0ms\u001b[0m\u001b[1;33m.\u001b[0m\u001b[0mstartswith\u001b[0m\u001b[1;33m(\u001b[0m\u001b[1;34m'org.apache.spark.sql.streaming.StreamingQueryException: '\u001b[0m\u001b[1;33m)\u001b[0m\u001b[1;33m:\u001b[0m\u001b[1;33m\u001b[0m\u001b[1;33m\u001b[0m\u001b[0m\n\u001b[0;32m     75\u001b[0m                 \u001b[1;32mraise\u001b[0m \u001b[0mStreamingQueryException\u001b[0m\u001b[1;33m(\u001b[0m\u001b[0ms\u001b[0m\u001b[1;33m.\u001b[0m\u001b[0msplit\u001b[0m\u001b[1;33m(\u001b[0m\u001b[1;34m': '\u001b[0m\u001b[1;33m,\u001b[0m \u001b[1;36m1\u001b[0m\u001b[1;33m)\u001b[0m\u001b[1;33m[\u001b[0m\u001b[1;36m1\u001b[0m\u001b[1;33m]\u001b[0m\u001b[1;33m,\u001b[0m \u001b[0mstackTrace\u001b[0m\u001b[1;33m)\u001b[0m\u001b[1;33m\u001b[0m\u001b[1;33m\u001b[0m\u001b[0m\n",
      "\u001b[1;31mParseException\u001b[0m: \"\\nno viable alternative at input 'CREATE MODEL'(line 1, pos 7)\\n\\n== SQL ==\\nCREATE MODEL Flowers0010 PREDICTING (Species) FROM DataMining.IrisDataset\\n-------^^^\\n\""
     ]
    }
   ],
   "source": [
    "spark.sql(\"CREATE MODEL Flowers0010 PREDICTING (Species) FROM DataMining.IrisDataset\")"
   ]
  },
  {
   "cell_type": "code",
   "execution_count": null,
   "metadata": {},
   "outputs": [],
   "source": []
  }
 ],
 "metadata": {
  "kernelspec": {
   "display_name": "Python 3",
   "language": "python",
   "name": "python3"
  },
  "language_info": {
   "codemirror_mode": {
    "name": "ipython",
    "version": 3
   },
   "file_extension": ".py",
   "mimetype": "text/x-python",
   "name": "python",
   "nbconvert_exporter": "python",
   "pygments_lexer": "ipython3",
   "version": "3.6.9"
  }
 },
 "nbformat": 4,
 "nbformat_minor": 2
}
