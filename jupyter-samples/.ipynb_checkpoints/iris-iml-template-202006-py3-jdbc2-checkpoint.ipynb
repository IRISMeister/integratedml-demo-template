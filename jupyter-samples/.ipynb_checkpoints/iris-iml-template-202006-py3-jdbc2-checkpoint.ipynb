{
 "cells": [
  {
   "cell_type": "code",
   "execution_count": null,
   "metadata": {},
   "outputs": [],
   "source": [
    "!pip install jupyterthemes"
   ]
  },
  {
   "cell_type": "code",
   "execution_count": 2,
   "metadata": {},
   "outputs": [
    {
     "name": "stdout",
     "output_type": "stream",
     "text": [
      "/bin/sh: 1: jt: not found\r\n"
     ]
    }
   ],
   "source": [
    "!jt -r"
   ]
  },
  {
   "cell_type": "code",
   "execution_count": 3,
   "metadata": {},
   "outputs": [
    {
     "data": {
      "text/html": [
       "<style>.container { width:100% !important; }</style>"
      ],
      "text/plain": [
       "<IPython.core.display.HTML object>"
      ]
     },
     "metadata": {},
     "output_type": "display_data"
    }
   ],
   "source": [
    "from IPython.core.display import display, HTML\n",
    "display(HTML(\"<style>.container { width:100% !important; }</style>\"))"
   ]
  },
  {
   "cell_type": "code",
   "execution_count": 4,
   "metadata": {},
   "outputs": [
    {
     "name": "stdout",
     "output_type": "stream",
     "text": [
      "Collecting JayDeBeApi\n",
      "  Downloading JayDeBeApi-1.2.2-py3-none-any.whl (26 kB)\n",
      "Collecting JPype1\n",
      "  Downloading JPype1-0.7.5-cp36-cp36m-manylinux2010_x86_64.whl (3.6 MB)\n",
      "\u001b[K     |████████████████████████████████| 3.6 MB 11.6 MB/s eta 0:00:01\n",
      "\u001b[?25hInstalling collected packages: JPype1, JayDeBeApi\n",
      "Successfully installed JPype1-0.7.5 JayDeBeApi-1.2.2\n",
      "\u001b[33mWARNING: You are using pip version 20.1; however, version 20.1.1 is available.\n",
      "You should consider upgrading via the '/usr/bin/python3 -m pip install --upgrade pip' command.\u001b[0m\n"
     ]
    }
   ],
   "source": [
    "!pip install JayDeBeApi"
   ]
  },
  {
   "cell_type": "code",
   "execution_count": 1,
   "metadata": {},
   "outputs": [
    {
     "name": "stdout",
     "output_type": "stream",
     "text": [
      "Collecting pandas\n",
      "  Downloading pandas-1.0.4-cp36-cp36m-manylinux1_x86_64.whl (10.1 MB)\n",
      "\u001b[K     |████████████████████████████████| 10.1 MB 10.2 MB/s eta 0:00:01\n",
      "\u001b[?25hRequirement already satisfied: python-dateutil>=2.6.1 in /usr/local/lib/python3.6/dist-packages (from pandas) (2.8.1)\n",
      "Requirement already satisfied: numpy>=1.13.3 in /usr/local/lib/python3.6/dist-packages (from pandas) (1.18.4)\n",
      "Collecting pytz>=2017.2\n",
      "  Downloading pytz-2020.1-py2.py3-none-any.whl (510 kB)\n",
      "\u001b[K     |████████████████████████████████| 510 kB 76.9 MB/s eta 0:00:01\n",
      "\u001b[?25hRequirement already satisfied: six>=1.5 in /usr/local/lib/python3.6/dist-packages (from python-dateutil>=2.6.1->pandas) (1.14.0)\n",
      "Installing collected packages: pytz, pandas\n",
      "Successfully installed pandas-1.0.4 pytz-2020.1\n",
      "\u001b[33mWARNING: You are using pip version 20.1; however, version 20.1.1 is available.\n",
      "You should consider upgrading via the '/usr/bin/python3 -m pip install --upgrade pip' command.\u001b[0m\n"
     ]
    }
   ],
   "source": [
    "!pip install pandas"
   ]
  },
  {
   "cell_type": "code",
   "execution_count": 13,
   "metadata": {},
   "outputs": [
    {
     "name": "stdout",
     "output_type": "stream",
     "text": [
      "Collecting scikit-learn\n",
      "  Downloading scikit_learn-0.23.1-cp36-cp36m-manylinux1_x86_64.whl (6.8 MB)\n",
      "\u001b[K     |████████████████████████████████| 6.8 MB 11.2 MB/s eta 0:00:01\n",
      "\u001b[?25hRequirement already satisfied: numpy in /usr/local/lib/python3.6/dist-packages (1.18.4)\n",
      "Collecting joblib>=0.11\n",
      "  Downloading joblib-0.15.1-py3-none-any.whl (298 kB)\n",
      "\u001b[K     |████████████████████████████████| 298 kB 86.6 MB/s eta 0:00:01\n",
      "\u001b[?25hCollecting threadpoolctl>=2.0.0\n",
      "  Downloading threadpoolctl-2.1.0-py3-none-any.whl (12 kB)\n",
      "Requirement already satisfied: scipy>=0.19.1 in /usr/local/lib/python3.6/dist-packages (from scikit-learn) (1.4.1)\n",
      "Installing collected packages: joblib, threadpoolctl, scikit-learn\n",
      "Successfully installed joblib-0.15.1 scikit-learn-0.23.1 threadpoolctl-2.1.0\n",
      "\u001b[33mWARNING: You are using pip version 20.1; however, version 20.1.1 is available.\n",
      "You should consider upgrading via the '/usr/bin/python3 -m pip install --upgrade pip' command.\u001b[0m\n"
     ]
    }
   ],
   "source": [
    "!pip install scikit-learn numpy "
   ]
  },
  {
   "cell_type": "code",
   "execution_count": 2,
   "metadata": {},
   "outputs": [
    {
     "name": "stdout",
     "output_type": "stream",
     "text": [
      "Package                Version\n",
      "---------------------- -----------\n",
      "absl-py                0.9.0\n",
      "asn1crypto             0.24.0\n",
      "astunparse             1.6.3\n",
      "attrs                  19.3.0\n",
      "backcall               0.1.0\n",
      "bleach                 3.1.5\n",
      "cachetools             4.1.0\n",
      "certifi                2020.4.5.1\n",
      "chardet                3.0.4\n",
      "cryptography           2.1.4\n",
      "cycler                 0.10.0\n",
      "decorator              4.4.2\n",
      "defusedxml             0.6.0\n",
      "entrypoints            0.3\n",
      "gast                   0.3.3\n",
      "google-auth            1.14.2\n",
      "google-auth-oauthlib   0.4.1\n",
      "google-pasta           0.2.0\n",
      "grpcio                 1.28.1\n",
      "h5py                   2.10.0\n",
      "idna                   2.6\n",
      "importlib-metadata     1.6.0\n",
      "ipykernel              5.1.1\n",
      "ipython                7.14.0\n",
      "ipython-genutils       0.2.0\n",
      "ipywidgets             7.5.1\n",
      "JayDeBeApi             1.2.2\n",
      "jedi                   0.17.0\n",
      "Jinja2                 2.11.2\n",
      "JPype1                 0.7.5\n",
      "jsonschema             3.2.0\n",
      "jupyter                1.0.0\n",
      "jupyter-client         6.1.3\n",
      "jupyter-console        6.1.0\n",
      "jupyter-core           4.6.3\n",
      "jupyter-http-over-ws   0.0.8\n",
      "Keras-Preprocessing    1.1.0\n",
      "keyring                10.6.0\n",
      "keyrings.alt           3.0\n",
      "kiwisolver             1.2.0\n",
      "Markdown               3.2.1\n",
      "MarkupSafe             1.1.1\n",
      "matplotlib             3.2.1\n",
      "mistune                0.8.4\n",
      "nbconvert              5.6.1\n",
      "nbformat               4.4.0\n",
      "notebook               6.0.3\n",
      "numpy                  1.18.4\n",
      "oauthlib               3.1.0\n",
      "opt-einsum             3.2.1\n",
      "packaging              20.3\n",
      "pandas                 1.0.4\n",
      "pandocfilters          1.4.2\n",
      "parso                  0.7.0\n",
      "pexpect                4.8.0\n",
      "pickleshare            0.7.5\n",
      "pip                    20.1\n",
      "prometheus-client      0.7.1\n",
      "prompt-toolkit         3.0.5\n",
      "protobuf               3.11.3\n",
      "ptyprocess             0.6.0\n",
      "pyasn1                 0.4.8\n",
      "pyasn1-modules         0.2.8\n",
      "pycrypto               2.6.1\n",
      "Pygments               2.6.1\n",
      "pygobject              3.26.1\n",
      "pyparsing              2.4.7\n",
      "pyrsistent             0.16.0\n",
      "python-dateutil        2.8.1\n",
      "pytz                   2020.1\n",
      "pyxdg                  0.25\n",
      "pyzmq                  19.0.1\n",
      "qtconsole              4.7.3\n",
      "QtPy                   1.9.0\n",
      "requests               2.23.0\n",
      "requests-oauthlib      1.3.0\n",
      "rsa                    4.0\n",
      "scipy                  1.4.1\n",
      "SecretStorage          2.3.1\n",
      "Send2Trash             1.5.0\n",
      "setuptools             46.1.3\n",
      "six                    1.14.0\n",
      "tensorboard            2.2.1\n",
      "tensorboard-plugin-wit 1.6.0.post3\n",
      "tensorflow             2.2.0\n",
      "tensorflow-estimator   2.2.0\n",
      "termcolor              1.1.0\n",
      "terminado              0.8.3\n",
      "testpath               0.4.4\n",
      "tornado                6.0.4\n",
      "traitlets              4.3.3\n",
      "urllib3                1.25.9\n",
      "wcwidth                0.1.9\n",
      "webencodings           0.5.1\n",
      "Werkzeug               1.0.1\n",
      "wheel                  0.30.0\n",
      "widgetsnbextension     3.5.1\n",
      "wrapt                  1.12.1\n",
      "zipp                   3.1.0\n",
      "\u001b[33mWARNING: You are using pip version 20.1; however, version 20.1.1 is available.\n",
      "You should consider upgrading via the '/usr/bin/python3 -m pip install --upgrade pip' command.\u001b[0m\n"
     ]
    }
   ],
   "source": [
    "!pip list JPype1"
   ]
  },
  {
   "cell_type": "code",
   "execution_count": 7,
   "metadata": {},
   "outputs": [],
   "source": [
    "### 1. Set environment variables, if necessary\n",
    "#import os\n",
    "#os.environ['JAVA_HOME']='C:\\Progra~1\\Java\\jdk1.8.0_241'\n",
    "#os.environ['CLASSPATH'] = 'C:\\interSystems\\IRIS20194\\dev\\java\\lib\\JDK18\\intersystems-jdbc-3.0.0.jar'\n",
    "#os.environ['HADOOP_HOME']='C:\\hadoop\\bin'  #winutil binary must be in Hadoop's Home"
   ]
  },
  {
   "cell_type": "code",
   "execution_count": 3,
   "metadata": {},
   "outputs": [],
   "source": [
    "### 2. Get jdbc connection and cursor\n",
    "import jaydebeapi\n",
    "url = \"jdbc:IRIS://irisimlsvr:51773/USER\"  #We can use Docker mahine's port: url = \"jdbc:IRIS://172.17.0.1:8091/USER\"\n",
    "driver = 'com.intersystems.jdbc.IRISDriver'\n",
    "user = \"SUPERUSER\"  \n",
    "password = \"SYS\"\n",
    "#libx = \"C:/InterSystems/IRIS20194/dev/java/lib/JDK18\"\n",
    "#jarfile = \"C:/InterSystems/IRIS20194/dev/java/lib/JDK18/intersystems-jdbc-3.0.0.jar\"\n",
    "jarfile = \"/tf/intersystems-jdbc-3.1.0.jar\"\n"
   ]
  },
  {
   "cell_type": "code",
   "execution_count": 4,
   "metadata": {},
   "outputs": [],
   "source": [
    "conn = jaydebeapi.connect(driver, url, [user, password], jarfile)\n",
    "curs = conn.cursor()"
   ]
  },
  {
   "cell_type": "markdown",
   "metadata": {},
   "source": [
    "!ls /tf/intersystems-jdbc-3.1.0.jar\n",
    "RUN apt-get update && \\\n",
    "    DEBIAN_FRONTEND=noninteractive \\\n",
    "    apt-get -y install default-jre-headless && \\\n",
    "    apt-get clean && \\\n",
    "    rm -rf /var/lib/apt/lists/*"
   ]
  },
  {
   "cell_type": "code",
   "execution_count": 5,
   "metadata": {},
   "outputs": [],
   "source": [
    "### 3. specify the source data table\n",
    "dataTable = 'DataMining.IrisDataset'"
   ]
  },
  {
   "cell_type": "code",
   "execution_count": 6,
   "metadata": {},
   "outputs": [
    {
     "name": "stdout",
     "output_type": "stream",
     "text": [
      "Total records: 20\n",
      "(38, 1.5, 0.1, 4.9, 3.1, 'Iris-setosa')\n",
      "(39, 1.3, 0.2, 4.4, 3.0, 'Iris-setosa')\n",
      "(40, 1.5, 0.2, 5.1, 3.4, 'Iris-setosa')\n",
      "(41, 1.3, 0.3, 5.0, 3.5, 'Iris-setosa')\n",
      "(42, 1.3, 0.3, 4.5, 2.3, 'Iris-setosa')\n",
      "(43, 1.3, 0.2, 4.4, 3.2, 'Iris-setosa')\n",
      "(44, 1.6, 0.6, 5.0, 3.5, 'Iris-setosa')\n",
      "(45, 1.9, 0.4, 5.1, 3.8, 'Iris-setosa')\n",
      "(19, 1.7, 0.3, 5.7, 3.8, 'Iris-setosa')\n",
      "(20, 1.5, 0.3, 5.1, 3.8, 'Iris-setosa')\n",
      "(21, 1.7, 0.2, 5.4, 3.4, 'Iris-setosa')\n",
      "(22, 1.5, 0.4, 5.1, 3.7, 'Iris-setosa')\n",
      "(23, 1.0, 0.2, 4.6, 3.6, 'Iris-setosa')\n",
      "(24, 1.7, 0.5, 5.1, 3.3, 'Iris-setosa')\n",
      "(76, 4.4, 1.4, 6.6, 3.0, 'Iris-versicolor')\n",
      "(77, 4.8, 1.4, 6.8, 2.8, 'Iris-versicolor')\n",
      "(78, 5.0, 1.7, 6.7, 3.0, 'Iris-versicolor')\n",
      "(79, 4.5, 1.5, 6.0, 2.9, 'Iris-versicolor')\n",
      "(80, 3.5, 1.0, 5.7, 2.6, 'Iris-versicolor')\n",
      "(81, 3.8, 1.1, 5.5, 2.4, 'Iris-versicolor')\n"
     ]
    }
   ],
   "source": [
    "### 4. Get the result and display\n",
    "curs.execute(\"select TOP 20 * from %s\" % dataTable)\n",
    "result = curs.fetchall()\n",
    "print(\"Total records: \" + str(len(result)))\n",
    "for i in range(len(result)):\n",
    "    print(result[i])"
   ]
  },
  {
   "cell_type": "code",
   "execution_count": 7,
   "metadata": {},
   "outputs": [],
   "source": [
    "### 5. CLose and clean - I keep them open for next accesses.\n",
    "#curs.close()\n",
    "#conn.close()"
   ]
  },
  {
   "cell_type": "code",
   "execution_count": 14,
   "metadata": {},
   "outputs": [],
   "source": [
    "### transform SQL results \"sqlData\"to Pandas dataframe \"df\", then further to NumPy array \"arrayN\" for further ML pipelines \n",
    "import pandas as pd\n",
    "sqlData = \"SELECT * from DataMining.IrisDataset\"\n",
    "df= pd.io.sql.read_sql(sqlData, conn)\n",
    "df = df.drop('ID', 1)\n",
    "df = df[['SepalLength', 'SepalWidth', 'PetalLength', 'PetalWidth', 'Species']]\n",
    "# set the labels to 0, 1, 2, for NumPy matrix\n",
    "df.replace('Iris-setosa', 0, inplace=True)\n",
    "df.replace('Iris-versicolor', 1, inplace=True)\n",
    "df.replace('Iris-virginica', 2, inplace=True)\n",
    "# turn dataframe into Numpy array\n",
    "arrayN = df.to_numpy()\n",
    "### 6. CLose and clean - if connection is not needed anymore?\n",
    "#curs.close()\n",
    "#conn.close()"
   ]
  },
  {
   "cell_type": "code",
   "execution_count": 15,
   "metadata": {},
   "outputs": [
    {
     "data": {
      "text/html": [
       "<div>\n",
       "<style scoped>\n",
       "    .dataframe tbody tr th:only-of-type {\n",
       "        vertical-align: middle;\n",
       "    }\n",
       "\n",
       "    .dataframe tbody tr th {\n",
       "        vertical-align: top;\n",
       "    }\n",
       "\n",
       "    .dataframe thead th {\n",
       "        text-align: right;\n",
       "    }\n",
       "</style>\n",
       "<table border=\"1\" class=\"dataframe\">\n",
       "  <thead>\n",
       "    <tr style=\"text-align: right;\">\n",
       "      <th></th>\n",
       "      <th>SepalLength</th>\n",
       "      <th>SepalWidth</th>\n",
       "      <th>PetalLength</th>\n",
       "      <th>PetalWidth</th>\n",
       "      <th>Species</th>\n",
       "    </tr>\n",
       "  </thead>\n",
       "  <tbody>\n",
       "    <tr>\n",
       "      <th>0</th>\n",
       "      <td>5.7</td>\n",
       "      <td>3.8</td>\n",
       "      <td>1.7</td>\n",
       "      <td>0.3</td>\n",
       "      <td>0</td>\n",
       "    </tr>\n",
       "    <tr>\n",
       "      <th>1</th>\n",
       "      <td>5.1</td>\n",
       "      <td>3.8</td>\n",
       "      <td>1.5</td>\n",
       "      <td>0.3</td>\n",
       "      <td>0</td>\n",
       "    </tr>\n",
       "    <tr>\n",
       "      <th>2</th>\n",
       "      <td>5.4</td>\n",
       "      <td>3.4</td>\n",
       "      <td>1.7</td>\n",
       "      <td>0.2</td>\n",
       "      <td>0</td>\n",
       "    </tr>\n",
       "    <tr>\n",
       "      <th>3</th>\n",
       "      <td>5.1</td>\n",
       "      <td>3.7</td>\n",
       "      <td>1.5</td>\n",
       "      <td>0.4</td>\n",
       "      <td>0</td>\n",
       "    </tr>\n",
       "    <tr>\n",
       "      <th>4</th>\n",
       "      <td>4.6</td>\n",
       "      <td>3.6</td>\n",
       "      <td>1.0</td>\n",
       "      <td>0.2</td>\n",
       "      <td>0</td>\n",
       "    </tr>\n",
       "  </tbody>\n",
       "</table>\n",
       "</div>"
      ],
      "text/plain": [
       "   SepalLength  SepalWidth  PetalLength  PetalWidth  Species\n",
       "0          5.7         3.8          1.7         0.3        0\n",
       "1          5.1         3.8          1.5         0.3        0\n",
       "2          5.4         3.4          1.7         0.2        0\n",
       "3          5.1         3.7          1.5         0.4        0\n",
       "4          4.6         3.6          1.0         0.2        0"
      ]
     },
     "execution_count": 15,
     "metadata": {},
     "output_type": "execute_result"
    }
   ],
   "source": [
    "df.head(5)"
   ]
  },
  {
   "cell_type": "code",
   "execution_count": 16,
   "metadata": {},
   "outputs": [
    {
     "data": {
      "text/html": [
       "<div>\n",
       "<style scoped>\n",
       "    .dataframe tbody tr th:only-of-type {\n",
       "        vertical-align: middle;\n",
       "    }\n",
       "\n",
       "    .dataframe tbody tr th {\n",
       "        vertical-align: top;\n",
       "    }\n",
       "\n",
       "    .dataframe thead th {\n",
       "        text-align: right;\n",
       "    }\n",
       "</style>\n",
       "<table border=\"1\" class=\"dataframe\">\n",
       "  <thead>\n",
       "    <tr style=\"text-align: right;\">\n",
       "      <th></th>\n",
       "      <th>SepalLength</th>\n",
       "      <th>SepalWidth</th>\n",
       "      <th>PetalLength</th>\n",
       "      <th>PetalWidth</th>\n",
       "      <th>Species</th>\n",
       "    </tr>\n",
       "  </thead>\n",
       "  <tbody>\n",
       "    <tr>\n",
       "      <th>count</th>\n",
       "      <td>150.000000</td>\n",
       "      <td>150.000000</td>\n",
       "      <td>150.000000</td>\n",
       "      <td>150.000000</td>\n",
       "      <td>150.000000</td>\n",
       "    </tr>\n",
       "    <tr>\n",
       "      <th>mean</th>\n",
       "      <td>5.843333</td>\n",
       "      <td>3.054000</td>\n",
       "      <td>3.758667</td>\n",
       "      <td>1.198667</td>\n",
       "      <td>1.000000</td>\n",
       "    </tr>\n",
       "    <tr>\n",
       "      <th>std</th>\n",
       "      <td>0.828066</td>\n",
       "      <td>0.433594</td>\n",
       "      <td>1.764420</td>\n",
       "      <td>0.763161</td>\n",
       "      <td>0.819232</td>\n",
       "    </tr>\n",
       "    <tr>\n",
       "      <th>min</th>\n",
       "      <td>4.300000</td>\n",
       "      <td>2.000000</td>\n",
       "      <td>1.000000</td>\n",
       "      <td>0.100000</td>\n",
       "      <td>0.000000</td>\n",
       "    </tr>\n",
       "    <tr>\n",
       "      <th>25%</th>\n",
       "      <td>5.100000</td>\n",
       "      <td>2.800000</td>\n",
       "      <td>1.600000</td>\n",
       "      <td>0.300000</td>\n",
       "      <td>0.000000</td>\n",
       "    </tr>\n",
       "    <tr>\n",
       "      <th>50%</th>\n",
       "      <td>5.800000</td>\n",
       "      <td>3.000000</td>\n",
       "      <td>4.350000</td>\n",
       "      <td>1.300000</td>\n",
       "      <td>1.000000</td>\n",
       "    </tr>\n",
       "    <tr>\n",
       "      <th>75%</th>\n",
       "      <td>6.400000</td>\n",
       "      <td>3.300000</td>\n",
       "      <td>5.100000</td>\n",
       "      <td>1.800000</td>\n",
       "      <td>2.000000</td>\n",
       "    </tr>\n",
       "    <tr>\n",
       "      <th>max</th>\n",
       "      <td>7.900000</td>\n",
       "      <td>4.400000</td>\n",
       "      <td>6.900000</td>\n",
       "      <td>2.500000</td>\n",
       "      <td>2.000000</td>\n",
       "    </tr>\n",
       "  </tbody>\n",
       "</table>\n",
       "</div>"
      ],
      "text/plain": [
       "       SepalLength  SepalWidth  PetalLength  PetalWidth     Species\n",
       "count   150.000000  150.000000   150.000000  150.000000  150.000000\n",
       "mean      5.843333    3.054000     3.758667    1.198667    1.000000\n",
       "std       0.828066    0.433594     1.764420    0.763161    0.819232\n",
       "min       4.300000    2.000000     1.000000    0.100000    0.000000\n",
       "25%       5.100000    2.800000     1.600000    0.300000    0.000000\n",
       "50%       5.800000    3.000000     4.350000    1.300000    1.000000\n",
       "75%       6.400000    3.300000     5.100000    1.800000    2.000000\n",
       "max       7.900000    4.400000     6.900000    2.500000    2.000000"
      ]
     },
     "execution_count": 16,
     "metadata": {},
     "output_type": "execute_result"
    }
   ],
   "source": [
    "df.describe()"
   ]
  },
  {
   "cell_type": "code",
   "execution_count": 17,
   "metadata": {},
   "outputs": [],
   "source": [
    "import numpy as np \n",
    "from matplotlib import pyplot\n",
    "from sklearn.model_selection import train_test_split"
   ]
  },
  {
   "cell_type": "code",
   "execution_count": 18,
   "metadata": {},
   "outputs": [],
   "source": [
    "# keep e.g. 20% = 30 rows as test data; trained on another e.g. 80% = 120 rows\n",
    "X = arrayN[:,0:4]\n",
    "y = arrayN[:,4]\n",
    "X_train, X_validation, Y_train, Y_validation = train_test_split(X, y, test_size=0.20, random_state=1, shuffle=True)\n",
    "# make 80% of random rows into a Train set\n",
    "labels1 = np.reshape(Y_train,(120,1))\n",
    "train = np.concatenate([X_train, labels1],axis=-1)\n",
    "# make 20% of left rows into Test set\n",
    "lTest1 = np.reshape(Y_validation,(30,1))\n",
    "test = np.concatenate([X_validation, lTest1],axis=-1)\n",
    "# write the train data set into a Pandas frame\n",
    "dfTrain = pd.DataFrame({'SepalLength':train[:, 0], 'SepalWidth':train[:, 1], 'PetalLength':train[:, 2], 'PetalWidth':train[:, 3], 'Species':train[:, 4]})\n",
    "dfTrain['Species'].replace(0, 'Iris-setosa', inplace=True)\n",
    "dfTrain['Species'].replace(1, 'Iris-versicolor', inplace=True)\n",
    "dfTrain['Species'].replace(2, 'Iris-virginica', inplace=True)\n",
    "# write the test data into another Pandas frame\n",
    "dfTest = pd.DataFrame({'SepalLength':test[:, 0], 'SepalWidth':test[:, 1], 'PetalLength':test[:, 2], 'PetalWidth':test[:, 3], 'Species':test[:, 4]})\n",
    "dfTest['Species'].replace(0, 'Iris-setosa', inplace=True)\n",
    "dfTest['Species'].replace(1, 'Iris-versicolor', inplace=True)\n",
    "dfTest['Species'].replace(2, 'Iris-virginica', inplace=True)\n",
    "### 3. specify temp table names\n",
    "#dataTable = 'DataMining.IrisDataset'\n",
    "dtTrain = 'TRAIN02'\n",
    "dtTest = \"TEST02\"\n",
    "### 4. Create 2 temporary tables - you can try drop tables then re-create them every time\n",
    "curs.execute(\"Create Table %s (%s DOUBLE, %s DOUBLE, %s DOUBLE, %s DOUBLE, %s VARCHAR(100))\" % (dtTrain, dfTrain.columns[0], dfTrain.columns[1], dfTrain.columns[2], dfTrain.columns[3], dfTrain.columns[4]))\n",
    "curs.execute(\"Create Table %s (%s DOUBLE, %s DOUBLE, %s DOUBLE, %s DOUBLE, %s VARCHAR(100))\" % (dtTest, dfTest.columns[0], dfTest.columns[1], dfTest.columns[2], dfTest.columns[3], dfTest.columns[4]))\n",
    "### 5. write Train set and Test set into the tales. You can try to delete old record then insert everytime. \n",
    "curs.fast_executemany = True\n",
    "curs.executemany( \"INSERT INTO %s (SepalLength, SepalWidth, PetalLength, PetalWidth, Species) VALUES (?, ?, ?, ? ,?)\" % dtTrain,\n",
    "     list(dfTrain.itertuples(index=False, name=None)) )\n",
    "curs.executemany( \"INSERT INTO %s (SepalLength, SepalWidth, PetalLength, PetalWidth, Species) VALUES (?, ?, ?, ? ,?)\" % dtTest,\n",
    "     list(dfTest.itertuples(index=False, name=None)) )\n",
    "### 6. CLose and clean - if connection is not needed anymore?\n",
    "#curs.close()\n",
    "#conn.close()"
   ]
  },
  {
   "cell_type": "code",
   "execution_count": 14,
   "metadata": {},
   "outputs": [],
   "source": [
    "### 6. CLose and clean - if connection is not needed anymore?\n",
    "curs.close()\n",
    "conn.close()"
   ]
  },
  {
   "cell_type": "code",
   "execution_count": null,
   "metadata": {},
   "outputs": [],
   "source": []
  }
 ],
 "metadata": {
  "kernelspec": {
   "display_name": "Python 3",
   "language": "python",
   "name": "python3"
  },
  "language_info": {
   "codemirror_mode": {
    "name": "ipython",
    "version": 3
   },
   "file_extension": ".py",
   "mimetype": "text/x-python",
   "name": "python",
   "nbconvert_exporter": "python",
   "pygments_lexer": "ipython3",
   "version": "3.6.9"
  }
 },
 "nbformat": 4,
 "nbformat_minor": 2
}
